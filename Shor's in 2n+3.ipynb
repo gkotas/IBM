{
 "cells": [
  {
   "cell_type": "markdown",
   "metadata": {},
   "source": [
    "# Circuit for Shor’s algorithm using 2n+3 qubits"
   ]
  },
  {
   "cell_type": "markdown",
   "metadata": {},
   "source": [
    "This is a jupyter notebook building up the controlled U-a gate needed to implement Shor's algorithm as described by Stephane Beauregard in https://arxiv.org/abs/quant-ph/0205095v3."
   ]
  },
  {
   "cell_type": "code",
   "execution_count": null,
   "metadata": {},
   "outputs": [],
   "source": [
    "import numpy as np\n",
    "import qiskit as qk"
   ]
  },
  {
   "cell_type": "markdown",
   "metadata": {},
   "source": [
    "## Gate Functions\n",
    "Running this import adds each of the gates to the QuantumCircuit class.\n",
    "* QFT, iQFT\n",
    "* PhiADDa (No control, Single control, double control)\n",
    "* PhiADDaModN\n",
    "* CMULTaModN\n",
    "* Cua"
   ]
  },
  {
   "cell_type": "code",
   "execution_count": null,
   "metadata": {},
   "outputs": [],
   "source": [
    "import customGates"
   ]
  },
  {
   "cell_type": "code",
   "execution_count": null,
   "metadata": {},
   "outputs": [],
   "source": [
    "def init_reg(circ, q, val):\n",
    "    \"\"\"Initializes qubit register to value with NOT gates.\"\"\"\n",
    "    for i in range(len(q)):\n",
    "        if val & (1<<i):\n",
    "            circ.x(q[i])"
   ]
  },
  {
   "cell_type": "markdown",
   "metadata": {},
   "source": [
    "## Circuits"
   ]
  },
  {
   "cell_type": "code",
   "execution_count": null,
   "metadata": {},
   "outputs": [],
   "source": [
    "from qiskit.tools.visualization import plot_histogram\n",
    "sim_backend = qk.BasicAer.get_backend('qasm_simulator')"
   ]
  },
  {
   "cell_type": "markdown",
   "metadata": {},
   "source": [
    "### Circuit for quantum adder"
   ]
  },
  {
   "cell_type": "code",
   "execution_count": null,
   "metadata": {},
   "outputs": [],
   "source": [
    "b = qk.QuantumRegister(4, 'b')\n",
    "res_b = qk.ClassicalRegister(4, 'res\\_b')\n",
    "\n",
    "circ = qk.QuantumCircuit(b, res_b)\n",
    "\n",
    "# Add 3 + 11\n",
    "a = 3\n",
    "init_reg(circ, b, 11)\n",
    "\n",
    "circ.qft(b, 4)\n",
    "circ.PhiADDa(a, b, 4)\n",
    "circ.iqft(b, 4)\n",
    "circ.measure(b, res_b)\n",
    "\n",
    "job = qk.execute(circ, sim_backend)\n",
    "result = job.result()\n",
    "counts = result.get_counts(circ)\n",
    "plot_histogram(counts)"
   ]
  },
  {
   "cell_type": "code",
   "execution_count": null,
   "metadata": {},
   "outputs": [],
   "source": [
    "circ.draw(output='mpl', plot_barriers=False)"
   ]
  },
  {
   "cell_type": "markdown",
   "metadata": {},
   "source": [
    "### Controlled Quantum Adder"
   ]
  },
  {
   "cell_type": "code",
   "execution_count": null,
   "metadata": {},
   "outputs": [],
   "source": [
    "b = qk.QuantumRegister(4, 'b')\n",
    "c = qk.QuantumRegister(1, 'c')\n",
    "res_b = qk.ClassicalRegister(4, 'res\\_b')\n",
    "\n",
    "circ = qk.QuantumCircuit(b, c, res_b)\n",
    "\n",
    "# Add 3 + 11\n",
    "a = 3\n",
    "init_reg(circ, b, 11)\n",
    "init_reg(circ, c, 1)  # C needs to be 1 in order to add, otherwise measurement is b passed through\n",
    "\n",
    "circ.qft(b, 4)\n",
    "circ.cPhiADDa(a, b, c, 4)\n",
    "circ.iqft(b, 4)\n",
    "circ.measure(b, res_b)\n",
    "\n",
    "job = qk.execute(circ, sim_backend)\n",
    "result = job.result()\n",
    "counts = result.get_counts(circ)\n",
    "plot_histogram(counts)"
   ]
  },
  {
   "cell_type": "code",
   "execution_count": null,
   "metadata": {},
   "outputs": [],
   "source": [
    "circ.draw(output='mpl', plot_barriers=False)"
   ]
  },
  {
   "cell_type": "markdown",
   "metadata": {},
   "source": [
    "### Double Controlled Quantum Adder"
   ]
  },
  {
   "cell_type": "code",
   "execution_count": null,
   "metadata": {},
   "outputs": [],
   "source": [
    "c = qk.QuantumRegister(2, 'c')\n",
    "b = qk.QuantumRegister(4, 'b')\n",
    "res_b = qk.ClassicalRegister(4, 'res\\_b')\n",
    "\n",
    "circ = qk.QuantumCircuit(c, b, res_b)\n",
    "\n",
    "# Add 3 + 11\n",
    "a = 3\n",
    "init_reg(circ, b, 11)\n",
    "init_reg(circ, c, 3)  # C needs to be 3 in order to add, otherwise measurement is b passed through\n",
    "\n",
    "circ.qft(b, 4)\n",
    "circ.ccPhiADDa(a, b, c[0], c[1], 4)\n",
    "circ.iqft(b, 4)\n",
    "circ.measure(b, res_b)\n",
    "\n",
    "job = qk.execute(circ, sim_backend)\n",
    "result = job.result()\n",
    "counts = result.get_counts(circ)\n",
    "plot_histogram(counts)"
   ]
  },
  {
   "cell_type": "code",
   "execution_count": null,
   "metadata": {
    "scrolled": false
   },
   "outputs": [],
   "source": [
    "circ.draw(output='mpl', plot_barriers=False)"
   ]
  },
  {
   "cell_type": "markdown",
   "metadata": {},
   "source": [
    "### Controlled Quantum Subtractor"
   ]
  },
  {
   "cell_type": "code",
   "execution_count": null,
   "metadata": {},
   "outputs": [],
   "source": [
    "b = qk.QuantumRegister(4, 'b')\n",
    "c = qk.QuantumRegister(1, 'c')\n",
    "res_b = qk.ClassicalRegister(4, 'res\\_b')\n",
    "\n",
    "circ = qk.QuantumCircuit(b, c, res_b)\n",
    "\n",
    "# Sub 11 - 3\n",
    "a = 3\n",
    "init_reg(circ, b, 11)\n",
    "init_reg(circ, c, 1) # C needs to be 1 in order to add, otherwise measurement is b passed through\n",
    "\n",
    "circ.qft(b, 4)\n",
    "circ.cPhiSUBa(a, b, c, 4)\n",
    "circ.iqft(b, 4)\n",
    "circ.measure(b, res_b)\n",
    "\n",
    "job = qk.execute(circ, sim_backend)\n",
    "result = job.result()\n",
    "counts = result.get_counts(circ)\n",
    "plot_histogram(counts)"
   ]
  },
  {
   "cell_type": "code",
   "execution_count": null,
   "metadata": {},
   "outputs": [],
   "source": [
    "circ.draw(output='mpl', plot_barriers=False)"
   ]
  },
  {
   "cell_type": "markdown",
   "metadata": {},
   "source": [
    "### Modulo Quantum Adder"
   ]
  },
  {
   "cell_type": "code",
   "execution_count": null,
   "metadata": {
    "scrolled": true
   },
   "outputs": [],
   "source": [
    "c = qk.QuantumRegister(2, 'c')\n",
    "b = qk.QuantumRegister(4, 'b')\n",
    "anc = qk.QuantumRegister(1, 'anc')\n",
    "res_b = qk.ClassicalRegister(4, 'res\\_b')\n",
    "\n",
    "circ = qk.QuantumCircuit(c, b, anc, res_b)\n",
    "\n",
    "# Add (7 + 5) % 10\n",
    "a = 7\n",
    "N = 10\n",
    "init_reg(circ, b, 5)\n",
    "init_reg(circ, c, 3)  # C needs to be 3 in order to add, otherwise measurement is b passed through\n",
    "\n",
    "circ.qft(b, 4)\n",
    "circ.barrier()\n",
    "circ.PhiADDaModN(a, b, c[0], c[1], anc[0], N, 4)\n",
    "circ.barrier()\n",
    "circ.iqft(b, 4)\n",
    "circ.measure(b, res_b)\n",
    "\n",
    "job = qk.execute(circ, sim_backend)\n",
    "result = job.result()\n",
    "counts = result.get_counts(circ)\n",
    "plot_histogram(counts)"
   ]
  },
  {
   "cell_type": "code",
   "execution_count": null,
   "metadata": {},
   "outputs": [],
   "source": [
    "circ.draw(output='mpl', plot_barriers=False)"
   ]
  },
  {
   "cell_type": "markdown",
   "metadata": {},
   "source": [
    "### Modulo Quantum Subtractor?"
   ]
  },
  {
   "cell_type": "code",
   "execution_count": null,
   "metadata": {},
   "outputs": [],
   "source": [
    "c = qk.QuantumRegister(2, 'c')\n",
    "b = qk.QuantumRegister(4, 'b')\n",
    "anc = qk.QuantumRegister(1, 'anc')\n",
    "res_b = qk.ClassicalRegister(4, 'res\\_b')\n",
    "\n",
    "circ = qk.QuantumCircuit(c, b, anc, res_b)\n",
    "\n",
    "# Sub (2 - 7) % 10\n",
    "a = 7\n",
    "N = 10\n",
    "init_reg(circ, b, 2)\n",
    "init_reg(circ, c, 3)  # C needs to be 3 in order to add, otherwise measurement is b passed through\n",
    "\n",
    "circ.qft(b, 4)\n",
    "circ.PhiSUBaModN(a, b, c[0], c[1], anc[0], N, 4)\n",
    "circ.iqft(b, 4)\n",
    "circ.measure(b, res_b)\n",
    "\n",
    "job = qk.execute(circ, sim_backend)\n",
    "result = job.result()\n",
    "counts = result.get_counts(circ)\n",
    "plot_histogram(counts)"
   ]
  },
  {
   "cell_type": "code",
   "execution_count": null,
   "metadata": {},
   "outputs": [],
   "source": [
    "circ.draw(output='mpl', plot_barriers=False)"
   ]
  },
  {
   "cell_type": "markdown",
   "metadata": {},
   "source": [
    "### Multiply Modulo Circuit"
   ]
  },
  {
   "cell_type": "code",
   "execution_count": null,
   "metadata": {
    "scrolled": true
   },
   "outputs": [],
   "source": [
    "c = qk.QuantumRegister(1, 'c')\n",
    "x = qk.QuantumRegister(4, 'x')\n",
    "b = qk.QuantumRegister(4, 'b')\n",
    "anc = qk.QuantumRegister(1, 'anc')\n",
    "res_b = qk.ClassicalRegister(4, 'res\\_b')\n",
    "\n",
    "circ = qk.QuantumCircuit(c, x, b, anc, res_b)\n",
    "\n",
    "# Multiply 1 + 3*4 % 7\n",
    "a = 3\n",
    "N = 7\n",
    "init_reg(circ, x, 4)\n",
    "init_reg(circ, b, 1)\n",
    "init_reg(circ, c, 1)  # C needs to be 1 in order to add, otherwise measurement is b passed through\n",
    "\n",
    "# Barriers around custom gate spaces out the drawing so they don't overlap\n",
    "circ.barrier()\n",
    "circ.CMULTaModN(a, b, c[0], x, anc[0], N, 4)\n",
    "circ.measure(b, res_b)\n",
    "\n",
    "job = qk.execute(circ, sim_backend)\n",
    "result = job.result()\n",
    "counts = result.get_counts(circ)\n",
    "plot_histogram(counts)"
   ]
  },
  {
   "cell_type": "code",
   "execution_count": null,
   "metadata": {},
   "outputs": [],
   "source": [
    "circ.draw(output='mpl', plot_barriers=False)"
   ]
  },
  {
   "cell_type": "markdown",
   "metadata": {},
   "source": [
    "### Divide Modulo Circuit?\n",
    "Not really a divider but the inverse of the multply"
   ]
  },
  {
   "cell_type": "code",
   "execution_count": null,
   "metadata": {},
   "outputs": [],
   "source": [
    "c = qk.QuantumRegister(1, 'c')\n",
    "x = qk.QuantumRegister(4, 'x')\n",
    "b = qk.QuantumRegister(4, 'b')\n",
    "anc = qk.QuantumRegister(1, 'anc')\n",
    "res_b = qk.ClassicalRegister(4, 'res\\_b')\n",
    "\n",
    "circ = qk.QuantumCircuit(c, x, b, anc, res_b)\n",
    "\n",
    "# Divide? (6 - 3*4) % 7\n",
    "a = 3\n",
    "N = 7\n",
    "init_reg(circ, x, 4)\n",
    "init_reg(circ, b, 6)\n",
    "init_reg(circ, c, 1)  # C needs to be 1 in order to add, otherwise measurement is b passed through\n",
    "\n",
    "# Barriers around custom gate spaces out the drawing so they don't overlap\n",
    "circ.barrier()\n",
    "circ.CDIVaModN(a, b, c[0], x, anc[0], N, 4)\n",
    "circ.measure(b, res_b)\n",
    "\n",
    "job = qk.execute(circ, sim_backend)\n",
    "result = job.result()\n",
    "counts = result.get_counts(circ)\n",
    "plot_histogram(counts)"
   ]
  },
  {
   "cell_type": "code",
   "execution_count": null,
   "metadata": {},
   "outputs": [],
   "source": [
    "circ.draw(output='mpl', plot_barriers=False)"
   ]
  },
  {
   "cell_type": "markdown",
   "metadata": {},
   "source": [
    "### Controlled Swap Registers"
   ]
  },
  {
   "cell_type": "code",
   "execution_count": null,
   "metadata": {},
   "outputs": [],
   "source": [
    "c = qk.QuantumRegister(1, 'c')\n",
    "x = qk.QuantumRegister(4, 'x')\n",
    "b = qk.QuantumRegister(4, 'b')\n",
    "res_b = qk.ClassicalRegister(4, 'res\\_b')\n",
    "\n",
    "circ = qk.QuantumCircuit(c, x, b, res_b)\n",
    "\n",
    "init_reg(circ, x, 14)\n",
    "init_reg(circ, b, 3)\n",
    "init_reg(circ, c, 0)  # C needs to be 1 in order to add, otherwise measurement is b passed through\n",
    "\n",
    "# Barriers around custom gate spaces out the drawing so they don't overlap\n",
    "circ.barrier()\n",
    "circ.cswap(c, x, b)\n",
    "circ.barrier()\n",
    "circ.measure(b, res_b)\n",
    "\n",
    "job = qk.execute(circ, sim_backend)\n",
    "result = job.result()\n",
    "counts = result.get_counts(circ)\n",
    "plot_histogram(counts)"
   ]
  },
  {
   "cell_type": "code",
   "execution_count": null,
   "metadata": {},
   "outputs": [],
   "source": [
    "circ.draw(output='mpl', plot_barriers=False)"
   ]
  },
  {
   "cell_type": "markdown",
   "metadata": {},
   "source": [
    "### Controlled U-a"
   ]
  },
  {
   "cell_type": "code",
   "execution_count": null,
   "metadata": {},
   "outputs": [],
   "source": [
    "c = qk.QuantumRegister(1, 'c')\n",
    "x = qk.QuantumRegister(4, 'x')\n",
    "z = qk.QuantumRegister(4, 'z')\n",
    "anc = qk.QuantumRegister(1, 'anc')\n",
    "res_x = qk.ClassicalRegister(4, 'res\\_x')\n",
    "\n",
    "circ = qk.QuantumCircuit(c, x, z, anc, res_x)\n",
    "\n",
    "# Multiply 3*5 % 7\n",
    "a = 5\n",
    "N = 7\n",
    "init_reg(circ, x, 3)\n",
    "init_reg(circ, c, 1)  # C needs to be 1 in order to add, otherwise measurement is x passed through\n",
    "\n",
    "# Barriers around custom gate spaces out the drawing so they don't overlap\n",
    "circ.barrier()\n",
    "circ.cua(a, c[0], x, z, anc[0], N, 4)\n",
    "circ.barrier()\n",
    "circ.measure(x, res_x)\n",
    "\n",
    "job = qk.execute(circ, sim_backend)\n",
    "result = job.result()\n",
    "counts = result.get_counts(circ)\n",
    "plot_histogram(counts)"
   ]
  },
  {
   "cell_type": "code",
   "execution_count": null,
   "metadata": {},
   "outputs": [],
   "source": [
    "circ.draw(output='mpl', plot_barriers=False)"
   ]
  },
  {
   "cell_type": "markdown",
   "metadata": {},
   "source": [
    "### Shors Circuit with Sequential iQFT"
   ]
  },
  {
   "cell_type": "code",
   "execution_count": null,
   "metadata": {},
   "outputs": [],
   "source": [
    "def rGate(circ, c, res, n, j):\n",
    "    \"\"\"Does the j-th row of the n-by-n iqft.\"\"\"\n",
    "    for i in range(j - 1, -1, -1):\n",
    "        circ.u1(-np.pi/float(2**(i + 1)), c).c_if(res[i], 1)\n",
    "    circ.h(c)"
   ]
  },
  {
   "cell_type": "code",
   "execution_count": null,
   "metadata": {},
   "outputs": [],
   "source": [
    "n = 4\n",
    "a = 2\n",
    "N = 15\n",
    "\n",
    "# Need the extra 1 qubit to hold the overflow of addition\n",
    "x = qk.QuantumRegister(n + 1, 'x')\n",
    "z = qk.QuantumRegister(n + 1, 'z')\n",
    "c = qk.QuantumRegister(1, 'c')\n",
    "anc = qk.QuantumRegister(1, 'anc')\n",
    "\n",
    "# Gross way to create 2n classical registers\n",
    "# Needed to do this to use res[i] as the control for the classical not\n",
    "res = []\n",
    "for i in range(2*n):\n",
    "    res.append(qk.ClassicalRegister(1, 'res%d' % i))\n",
    "\n",
    "circ = qk.QuantumCircuit(c, x, z, anc, *res)\n",
    "\n",
    "# Either 2**n - 1 or 2**(n+1) - 1\n",
    "# The paper shows the registion initialized to all 1s but doesn't specify if the\n",
    "# addition overflow qubit is included.\n",
    "init_reg(circ, x, 2**(n) - 1)\n",
    "\n",
    "for i in range(2*n):\n",
    "    circ.h(c)\n",
    "    circ.cua(a**(2**i) % N, c[0], x, z, anc[0], N, n + 1)\n",
    "    rGate(circ, c, res, 2*n, i)\n",
    "    circ.measure(c, res[i])\n",
    "    \n",
    "    circ.reset(c)\n",
    "    # Some papers have this classically controlled not, others don't\n",
    "    circ.x(c).c_if(res[i], 1)"
   ]
  },
  {
   "cell_type": "code",
   "execution_count": null,
   "metadata": {},
   "outputs": [],
   "source": [
    "circ.draw(output='mpl', plot_barriers=False)"
   ]
  }
 ],
 "metadata": {
  "kernelspec": {
   "display_name": "Python 3",
   "language": "python",
   "name": "python3"
  },
  "language_info": {
   "codemirror_mode": {
    "name": "ipython",
    "version": 3
   },
   "file_extension": ".py",
   "mimetype": "text/x-python",
   "name": "python",
   "nbconvert_exporter": "python",
   "pygments_lexer": "ipython3",
   "version": "3.6.7"
  }
 },
 "nbformat": 4,
 "nbformat_minor": 2
}
